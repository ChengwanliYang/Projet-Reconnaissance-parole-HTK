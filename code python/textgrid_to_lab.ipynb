{
 "cells": [
  {
   "cell_type": "code",
   "execution_count": 3,
   "metadata": {},
   "outputs": [],
   "source": [
    "import os\n",
    "\n",
    "path = \"/Users/joliot/Desktop/sdl-info-sorbonne4/S3/praat-reconnaissance/projet/textgrid\"\n",
    "path2 = \"/Users/joliot/Desktop/sdl-info-sorbonne4/S3/praat-reconnaissance/projet/new/\"\n",
    "path3 = \"/Users/joliot/Desktop/sdl-info-sorbonne4/S3/praat-reconnaissance/projet/lab/\"\n",
    "\n",
    "\n",
    "filelist = os.listdir(path)\n",
    "textgrid_list=[]\n",
    "\n",
    "for file in filelist:\n",
    "    if os.path.splitext(file)[1]=='.TextGrid':\n",
    "        newname = os.path.splitext(file)[0]+'.txt'\n",
    "        os.chdir(path)\n",
    "        os.rename(file,newname)\n",
    "        textgrid_list.append(newname)\n",
    "\n",
    "for file in textgrid_list:\n",
    "    f1 = open(file,'rb')\n",
    "    f2 = open(path2+file,\"w\")\n",
    "    lines = f1.readlines()\n",
    "    content = []\n",
    "    for line in lines[14:]:\n",
    "        line = line.decode('utf-8')\n",
    "        line = line.replace(\" \",\"\")\n",
    "        content.append(line)\n",
    "        f2.write(line)\n",
    "    f1.close()\n",
    "    f2.close()\n",
    "    \n",
    "    name = file.split('.')[0]\n",
    "    f3 = open(path3+name+'.lab','w')\n",
    "    n = 0\n",
    "    while n< len(content)-4:\n",
    "        start_time = int(round(float(content[n+1][5:]),4)*10000000)\n",
    "        end_time =  int(round(float(content[n+2][5:]),4)*10000000)\n",
    "        text = content[n+3][6:-2]\n",
    "        f3.write(str(start_time)+\" \"+str(end_time)+\" \"+text+\"\\n\")\n",
    "        n = n+4\n",
    "    f3.close()\n",
    "    "
   ]
  },
  {
   "cell_type": "code",
   "execution_count": null,
   "metadata": {},
   "outputs": [],
   "source": []
  },
  {
   "cell_type": "code",
   "execution_count": null,
   "metadata": {},
   "outputs": [],
   "source": []
  }
 ],
 "metadata": {
  "kernelspec": {
   "display_name": "Python 3",
   "language": "python",
   "name": "python3"
  },
  "language_info": {
   "codemirror_mode": {
    "name": "ipython",
    "version": 3
   },
   "file_extension": ".py",
   "mimetype": "text/x-python",
   "name": "python",
   "nbconvert_exporter": "python",
   "pygments_lexer": "ipython3",
   "version": "3.7.6"
  }
 },
 "nbformat": 4,
 "nbformat_minor": 2
}
