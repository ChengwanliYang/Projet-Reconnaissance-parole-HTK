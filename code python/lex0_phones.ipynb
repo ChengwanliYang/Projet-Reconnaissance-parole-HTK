{
 "cells": [
  {
   "cell_type": "code",
   "execution_count": 10,
   "metadata": {},
   "outputs": [],
   "source": [
    "import os\n",
    "\n",
    "#lists/lex0.txt\n",
    "path = \"/Users/joliot/Desktop/sdl-info-sorbonne4/S3/praat-reconnaissance/projet/textgrid\"\n",
    "path2 = \"/Users/joliot/Desktop/sdl-info-sorbonne4/S3/praat-reconnaissance/projet/new/\"\n",
    "path3 = \"/Users/joliot/Desktop/sdl-info-sorbonne4/S3/praat-reconnaissance/projet/donnees/lists/lex0.txt\"\n",
    "\n",
    "f = open(path3,\"w\")\n",
    "filelist = os.listdir(path)\n",
    "textgrid_list=[]\n",
    "phone_list = []\n",
    "\n",
    "\n",
    "for file in filelist:\n",
    "    if os.path.splitext(file)[1]=='.TextGrid':\n",
    "        newname = os.path.splitext(file)[0]+'.txt'\n",
    "        os.chdir(path)\n",
    "        os.rename(file,newname)\n",
    "        textgrid_list.append(newname)\n",
    "\n",
    "for file in textgrid_list:\n",
    "    \n",
    "    name = file.split('.')[0]\n",
    "    f.write(name+\" \")\n",
    "    \n",
    "    f1 = open(file,'rb')\n",
    "    #f2 = open(path2+file,\"w\")\n",
    "    lines = f1.readlines()\n",
    "    content = []\n",
    "    for line in lines[14:]:\n",
    "        line = line.decode('utf-8')\n",
    "        line = line.replace(\" \",\"\")\n",
    "        content.append(line)\n",
    "        #f2.write(line)\n",
    "    f1.close()\n",
    "    #f2.close()\n",
    "\n",
    "    n = 0\n",
    "    while n< len(content)-4:\n",
    "        text = content[n+3][6:-2]\n",
    "        f.write(text+\" \")\n",
    "        if text not in phone_list:\n",
    "            phone_list.append(text)\n",
    "        n+=4\n",
    "    f.write(\"\\n\")\n",
    "f.close()"
   ]
  },
  {
   "cell_type": "code",
   "execution_count": 2,
   "metadata": {},
   "outputs": [],
   "source": [
    "#phonesHTK\n",
    "fp = open(\"/Users/joliot/Desktop/sdl-info-sorbonne4/S3/praat-reconnaissance/projet/donnees/lists/phonesHTK\",\"w\")\n",
    "for phone in phone_list:\n",
    "    fp.write(phone + \"\\n\")\n",
    "fp.close()"
   ]
  },
  {
   "cell_type": "code",
   "execution_count": 3,
   "metadata": {},
   "outputs": [],
   "source": [
    "#SampaToHTK.dic\n",
    "fp = open(\"/Users/joliot/Desktop/sdl-info-sorbonne4/S3/praat-reconnaissance/projet/donnees/lists/SampaToHTK.dic\",\"w\")\n",
    "for phone in phone_list:\n",
    "    fp.write(phone + \" \" + phone + \"\\n\")\n",
    "fp.close()"
   ]
  },
  {
   "cell_type": "code",
   "execution_count": 4,
   "metadata": {},
   "outputs": [
    {
     "name": "stdout",
     "output_type": "stream",
     "text": [
      "['loc1-5.txt', 'loc1-4.txt', 'loc2-1.txt', 'loc1-10.txt', 'loc1-11.txt', 'loc2-6.txt', 'loc2-7.txt', 'loc1-17.txt', 'loc1-16.txt', 'loc1-8.txt', 'loc1-9.txt', 'loc1-2.txt', 'loc1-3.txt', 'loc1-13.txt', 'loc1-12.txt', 'loc2-2.txt', 'loc2-3.txt', 'loc1-18.txt', 'loc1-6.txt', 'loc1-7.txt', 'loc1-1.txt', 'loc1-14.txt', 'loc1-15.txt', 'loc2-5.txt', 'loc2-4.txt']\n"
     ]
    }
   ],
   "source": [
    "print(textgrid_list)"
   ]
  },
  {
   "cell_type": "code",
   "execution_count": null,
   "metadata": {},
   "outputs": [],
   "source": []
  },
  {
   "cell_type": "code",
   "execution_count": 11,
   "metadata": {},
   "outputs": [],
   "source": [
    "import os\n",
    "\n",
    "# CTZ/lists/lex0.txt -- mfc\n",
    "\n",
    "path1 = \"/Users/joliot/Desktop/sdl-info-sorbonne4/S3/praat-reconnaissance/projet/donnees/wav/test\"\n",
    "path2 = \"/Users/joliot/Desktop/sdl-info-sorbonne4/S3/praat-reconnaissance/projet/donnees/lists/\"\n",
    "\n",
    "filelist = os.listdir(path1)\n",
    "f = open(path2+'lex1.txt',\"w\")\n",
    "name_list = []\n",
    "for file in filelist:\n",
    "    name = file.split(\".\")[0]\n",
    "    name_list.append(name)"
   ]
  },
  {
   "cell_type": "code",
   "execution_count": 12,
   "metadata": {},
   "outputs": [],
   "source": [
    "for namee in name_list:\n",
    "    f.write(\"projet/donnees/param/apprentissage/\"+namee+'.mfc'+'\\n')\n",
    "f.close()"
   ]
  },
  {
   "cell_type": "code",
   "execution_count": null,
   "metadata": {},
   "outputs": [],
   "source": []
  }
 ],
 "metadata": {
  "kernelspec": {
   "display_name": "Python 3",
   "language": "python",
   "name": "python3"
  },
  "language_info": {
   "codemirror_mode": {
    "name": "ipython",
    "version": 3
   },
   "file_extension": ".py",
   "mimetype": "text/x-python",
   "name": "python",
   "nbconvert_exporter": "python",
   "pygments_lexer": "ipython3",
   "version": "3.7.6"
  }
 },
 "nbformat": 4,
 "nbformat_minor": 2
}
